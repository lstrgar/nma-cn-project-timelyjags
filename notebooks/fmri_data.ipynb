{
 "metadata": {
  "language_info": {
   "codemirror_mode": {
    "name": "ipython",
    "version": 3
   },
   "file_extension": ".py",
   "mimetype": "text/x-python",
   "name": "python",
   "nbconvert_exporter": "python",
   "pygments_lexer": "ipython3",
   "version": "3.9.5"
  },
  "orig_nbformat": 4,
  "kernelspec": {
   "name": "python3",
   "display_name": "Python 3.9.5 64-bit ('nmproj': conda)"
  },
  "interpreter": {
   "hash": "bbf140106ca26b83443f278fcc61aaab9bc549cfee6b595ee876771ed7fe395f"
  }
 },
 "nbformat": 4,
 "nbformat_minor": 2,
 "cells": [
  {
   "cell_type": "code",
   "execution_count": 15,
   "metadata": {},
   "outputs": [],
   "source": [
    "from glob import glob\n",
    "from matplotlib import pyplot as plt\n",
    "import numpy as np\n",
    "import os, pickle"
   ]
  },
  {
   "cell_type": "code",
   "execution_count": 8,
   "metadata": {},
   "outputs": [],
   "source": [
    "data_path = \"/Users/luke/Desktop/participants_data/participants_data_v2021/mini_track\""
   ]
  },
  {
   "cell_type": "code",
   "execution_count": 18,
   "metadata": {},
   "outputs": [],
   "source": [
    "subdirs = glob(os.path.join(data_path, \"*\"))"
   ]
  },
  {
   "cell_type": "code",
   "execution_count": 22,
   "metadata": {},
   "outputs": [],
   "source": [
    "sub10 = glob(os.path.join(subdirs[0], \"*\"))"
   ]
  },
  {
   "cell_type": "code",
   "execution_count": 38,
   "metadata": {},
   "outputs": [],
   "source": [
    "with open(sub10[5], \"rb\") as f:\n",
    "    data = pickle.load(f)"
   ]
  },
  {
   "cell_type": "code",
   "execution_count": 39,
   "metadata": {},
   "outputs": [
    {
     "output_type": "execute_result",
     "data": {
      "text/plain": [
       "(1000, 3, 188)"
      ]
     },
     "metadata": {},
     "execution_count": 39
    }
   ],
   "source": [
    "data['train'].shape"
   ]
  },
  {
   "cell_type": "code",
   "execution_count": 29,
   "metadata": {},
   "outputs": [
    {
     "output_type": "execute_result",
     "data": {
      "text/plain": [
       "[(0,\n",
       "  '/Users/luke/Desktop/participants_data/participants_data_v2021/mini_track/sub10/STS.pkl'),\n",
       " (1,\n",
       "  '/Users/luke/Desktop/participants_data/participants_data_v2021/mini_track/sub10/EBA.pkl'),\n",
       " (2,\n",
       "  '/Users/luke/Desktop/participants_data/participants_data_v2021/mini_track/sub10/FFA.pkl'),\n",
       " (3,\n",
       "  '/Users/luke/Desktop/participants_data/participants_data_v2021/mini_track/sub10/V2.pkl'),\n",
       " (4,\n",
       "  '/Users/luke/Desktop/participants_data/participants_data_v2021/mini_track/sub10/PPA.pkl'),\n",
       " (5,\n",
       "  '/Users/luke/Desktop/participants_data/participants_data_v2021/mini_track/sub10/V3.pkl'),\n",
       " (6,\n",
       "  '/Users/luke/Desktop/participants_data/participants_data_v2021/mini_track/sub10/V1.pkl'),\n",
       " (7,\n",
       "  '/Users/luke/Desktop/participants_data/participants_data_v2021/mini_track/sub10/V4.pkl'),\n",
       " (8,\n",
       "  '/Users/luke/Desktop/participants_data/participants_data_v2021/mini_track/sub10/LOC.pkl')]"
      ]
     },
     "metadata": {},
     "execution_count": 29
    }
   ],
   "source": [
    "list(enumerate(sub10))"
   ]
  },
  {
   "cell_type": "code",
   "execution_count": null,
   "metadata": {},
   "outputs": [],
   "source": []
  }
 ]
}